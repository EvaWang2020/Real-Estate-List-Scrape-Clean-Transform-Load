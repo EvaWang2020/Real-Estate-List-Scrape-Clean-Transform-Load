{
 "metadata": {
  "language_info": {
   "codemirror_mode": {
    "name": "ipython",
    "version": 3
   },
   "file_extension": ".py",
   "mimetype": "text/x-python",
   "name": "python",
   "nbconvert_exporter": "python",
   "pygments_lexer": "ipython3",
   "version": "3.8.3"
  },
  "orig_nbformat": 2,
  "kernelspec": {
   "name": "python3",
   "display_name": "Python 3.8.3 32-bit"
  },
  "interpreter": {
   "hash": "f603f5a1052f6c6a997ef9fb57a7092b5a0d0c1f98aad7fe9f614a3c71d8432d"
  }
 },
 "nbformat": 4,
 "nbformat_minor": 2,
 "cells": [
  {
   "cell_type": "code",
   "execution_count": 15,
   "metadata": {},
   "outputs": [
    {
     "output_type": "stream",
     "name": "stdout",
     "text": [
      "['C://Users/17789/Documents/Mentorship/RealEstateList\\\\realestatelist_2021-07-18-1.txt', 'C://Users/17789/Documents/Mentorship/RealEstateList\\\\realestatelist_2021-07-18-2.txt', 'C://Users/17789/Documents/Mentorship/RealEstateList\\\\realestatelist_2021-07-18-3.txt']\n<_io.TextIOWrapper name='C://Users/17789/Documents/Mentorship/RealEstateList\\\\realestatelist_2021-07-18-1.txt' mode='r' encoding='cp1252'>\n<_io.TextIOWrapper name='C://Users/17789/Documents/Mentorship/RealEstateList\\\\realestatelist_2021-07-18-2.txt' mode='r' encoding='cp1252'>\n<_io.TextIOWrapper name='C://Users/17789/Documents/Mentorship/RealEstateList\\\\realestatelist_2021-07-18-3.txt' mode='r' encoding='cp1252'>\n"
     ]
    }
   ],
   "source": [
    "import json\n",
    "import pandas as pd\n",
    "import os.path\n",
    "from datetime import date\n",
    "import glob\n",
    "\n",
    "\n",
    "# you can customize your file location\n",
    "path = \"C://Documents/realestatelist_\"\n",
    "path1 = \"totallistappend.csv\"\n",
    "file_path1 = path+path1\n",
    "\n",
    "date = date.today()\n",
    "file_list_per_date = glob.glob(f'{path}{str(date)}-*.txt')\n",
    "print(file_list_per_date)\n",
    "\n",
    "# create a function to find fhe element matching certain patterns \n",
    "def extact_property(pattern, list):\n",
    "    filtered_list = [e for e in list if pattern in e]\n",
    "    return filtered_list[-1] if len(filtered_list) >= 1 else None\n",
    "\n",
    "rows = []\n",
    "\n",
    "#find the start postion of certain string in the file path. It will be used to extract file date showing on file name \n",
    "l= path.find('realestatelist_')\n",
    "\n",
    "for current_file in file_list_per_date:\n",
    "    with open(current_file,) as f:\n",
    "        # takes a file object and returns the json object.\n",
    "        print(str(f))\n",
    "        json_object = json.load(f)\n",
    "\n",
    "        # take the lists from the jason file\n",
    "        listings = json_object['listings']\n",
    "\n",
    "        for item in listings:\n",
    "            row = {\n",
    "                'Price': item['Price'],\n",
    "                # each list have several items\n",
    "                'Bedroom_qty': extact_property('bd', item['Structure & size']),\n",
    "                'Bathroom_qty': extact_property('ba', item['Structure & size']),\n",
    "                'Floor_size': extact_property('sf', item['Structure & size']),\n",
    "                'Land_size': extact_property('ft', item['Structure & size']),\n",
    "                'Address': item['Address'],\n",
    "                'City_region': item['City'][0] if len(item['City']) > 1 else None,\n",
    "                'City': item['City'][-1] if len(item['City'])>=1 else None,\n",
    "                'List_type': item['list_Type'],\n",
    "                'Date':current_file[l+15:l+25],   # extract the date from current_file. Depending on your file path, the start number and ending numbers are different \n",
    "            }\n",
    "            rows.append(row)\n",
    "\n",
    "# Creates DataFrame object from dictionary by columns or by index allowing dtype specification.\n",
    "df = pd.DataFrame.from_dict(rows)\n",
    "\n",
    "# remove text from the columns and keep only values \n",
    "df['Bedroom_qty']= df.Bedroom_qty.str.split(' ').str[0]\n",
    "df['Bathroom_qty']= df.Bathroom_qty.str.split(' ').str[0]\n",
    "df['Floor_size']= df.Floor_size.str.split(' ').str[0]\n",
    "\n",
    "# extract widith and depth of the land\n",
    "df['Land_width']= df.Land_size.str.split('x').str[0]\n",
    "df['Land_depth']= df.Land_size.str.split('x').str[1]\n",
    "df['Land_depth']= df.Land_depth.str.split(' ').str[1]\n",
    "df=df.drop(columns=['Land_size'], axis = 1)\n",
    "\n",
    "# When there is no value for column 'bd', 'ba', 'size', it means that list is advertisment and could apear mutiple times the same day. We should remove them, but we will keep the only list with bedroom and bathroom quantity\n",
    "df = df[df['Bedroom_qty'].notnull()]   # if you want to exclude list for land, use \"df =df.dropna(subset=['Bathroom_qty','Bedroom_qty'], how='all')\"\n",
    "df = df.drop_duplicates()  \n",
    "\n",
    "# drop the list with both empty empty land size and empty land width. It is likely a imcomplte list for land \n",
    "df =df.dropna(subset=['Floor_size','Land_width'], how='all')\n",
    "\n",
    "# print(df)\n",
    "\n",
    "df.to_csv(file_path1, mode='a', header=True)                                \n",
    "\n",
    "\n",
    "     "
   ]
  },
  {
   "cell_type": "code",
   "execution_count": null,
   "metadata": {},
   "outputs": [],
   "source": []
  }
 ]
}