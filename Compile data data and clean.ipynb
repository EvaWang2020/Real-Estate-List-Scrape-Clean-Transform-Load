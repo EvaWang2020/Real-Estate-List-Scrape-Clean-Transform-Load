{
 "metadata": {
  "language_info": {
   "codemirror_mode": {
    "name": "ipython",
    "version": 3
   },
   "file_extension": ".py",
   "mimetype": "text/x-python",
   "name": "python",
   "nbconvert_exporter": "python",
   "pygments_lexer": "ipython3",
   "version": "3.8.3"
  },
  "orig_nbformat": 2,
  "kernelspec": {
   "name": "python3",
   "display_name": "Python 3.8.3 32-bit"
  },
  "interpreter": {
   "hash": "f603f5a1052f6c6a997ef9fb57a7092b5a0d0c1f98aad7fe9f614a3c71d8432d"
  }
 },
 "nbformat": 4,
 "nbformat_minor": 2,
 "cells": [
  {
   "cell_type": "code",
   "execution_count": 73,
   "metadata": {},
   "outputs": [
    {
     "output_type": "stream",
     "name": "stdout",
     "text": [
      "['C://Users/17789/Documents/Mentorship/RealEstateList\\\\realestatelist_2021-06-15-1.txt', 'C://Users/17789/Documents/Mentorship/RealEstateList\\\\realestatelist_2021-06-17-1.txt', 'C://Users/17789/Documents/Mentorship/RealEstateList\\\\realestatelist_2021-06-19-1.txt', 'C://Users/17789/Documents/Mentorship/RealEstateList\\\\realestatelist_2021-06-22-1.txt', 'C://Users/17789/Documents/Mentorship/RealEstateList\\\\realestatelist_2021-06-23-1.txt', 'C://Users/17789/Documents/Mentorship/RealEstateList\\\\realestatelist_2021-06-24-1.txt', 'C://Users/17789/Documents/Mentorship/RealEstateList\\\\realestatelist_2021-06-25-1.txt', 'C://Users/17789/Documents/Mentorship/RealEstateList\\\\realestatelist_2021-06-26-1.txt', 'C://Users/17789/Documents/Mentorship/RealEstateList\\\\realestatelist_2021-06-27-1.txt', 'C://Users/17789/Documents/Mentorship/RealEstateList\\\\realestatelist_2021-06-30-1.txt', 'C://Users/17789/Documents/Mentorship/RealEstateList\\\\realestatelist_2021-07-02-1.txt', 'C://Users/17789/Documents/Mentorship/RealEstateList\\\\realestatelist_2021-07-03-1.txt', 'C://Users/17789/Documents/Mentorship/RealEstateList\\\\realestatelist_2021-07-04-1.txt', 'C://Users/17789/Documents/Mentorship/RealEstateList\\\\realestatelist_2021-07-05-1.txt', 'C://Users/17789/Documents/Mentorship/RealEstateList\\\\realestatelist_2021-07-06-1.txt', 'C://Users/17789/Documents/Mentorship/RealEstateList\\\\realestatelist_2021-07-07-1.txt', 'C://Users/17789/Documents/Mentorship/RealEstateList\\\\realestatelist_2021-07-08-1.txt', 'C://Users/17789/Documents/Mentorship/RealEstateList\\\\realestatelist_2021-07-09-1.txt', 'C://Users/17789/Documents/Mentorship/RealEstateList\\\\realestatelist_2021-07-11-1.txt', 'C://Users/17789/Documents/Mentorship/RealEstateList\\\\realestatelist_2021-07-13-1.txt', 'C://Users/17789/Documents/Mentorship/RealEstateList\\\\realestatelist_2021-07-14-1.txt', 'C://Users/17789/Documents/Mentorship/RealEstateList\\\\realestatelist_2021-07-15-1.txt']\n",
      "<_io.TextIOWrapper name='C://Users/17789/Documents/Mentorship/RealEstateList\\\\realestatelist_2021-06-15-1.txt' mode='r' encoding='cp1252'>\n",
      "<_io.TextIOWrapper name='C://Users/17789/Documents/Mentorship/RealEstateList\\\\realestatelist_2021-06-17-1.txt' mode='r' encoding='cp1252'>\n",
      "<_io.TextIOWrapper name='C://Users/17789/Documents/Mentorship/RealEstateList\\\\realestatelist_2021-06-19-1.txt' mode='r' encoding='cp1252'>\n",
      "<_io.TextIOWrapper name='C://Users/17789/Documents/Mentorship/RealEstateList\\\\realestatelist_2021-06-22-1.txt' mode='r' encoding='cp1252'>\n",
      "<_io.TextIOWrapper name='C://Users/17789/Documents/Mentorship/RealEstateList\\\\realestatelist_2021-06-23-1.txt' mode='r' encoding='cp1252'>\n",
      "<_io.TextIOWrapper name='C://Users/17789/Documents/Mentorship/RealEstateList\\\\realestatelist_2021-06-24-1.txt' mode='r' encoding='cp1252'>\n",
      "<_io.TextIOWrapper name='C://Users/17789/Documents/Mentorship/RealEstateList\\\\realestatelist_2021-06-25-1.txt' mode='r' encoding='cp1252'>\n",
      "<_io.TextIOWrapper name='C://Users/17789/Documents/Mentorship/RealEstateList\\\\realestatelist_2021-06-26-1.txt' mode='r' encoding='cp1252'>\n",
      "<_io.TextIOWrapper name='C://Users/17789/Documents/Mentorship/RealEstateList\\\\realestatelist_2021-06-27-1.txt' mode='r' encoding='cp1252'>\n",
      "<_io.TextIOWrapper name='C://Users/17789/Documents/Mentorship/RealEstateList\\\\realestatelist_2021-06-30-1.txt' mode='r' encoding='cp1252'>\n",
      "<_io.TextIOWrapper name='C://Users/17789/Documents/Mentorship/RealEstateList\\\\realestatelist_2021-07-02-1.txt' mode='r' encoding='cp1252'>\n",
      "<_io.TextIOWrapper name='C://Users/17789/Documents/Mentorship/RealEstateList\\\\realestatelist_2021-07-03-1.txt' mode='r' encoding='cp1252'>\n",
      "<_io.TextIOWrapper name='C://Users/17789/Documents/Mentorship/RealEstateList\\\\realestatelist_2021-07-04-1.txt' mode='r' encoding='cp1252'>\n",
      "<_io.TextIOWrapper name='C://Users/17789/Documents/Mentorship/RealEstateList\\\\realestatelist_2021-07-05-1.txt' mode='r' encoding='cp1252'>\n",
      "<_io.TextIOWrapper name='C://Users/17789/Documents/Mentorship/RealEstateList\\\\realestatelist_2021-07-06-1.txt' mode='r' encoding='cp1252'>\n",
      "<_io.TextIOWrapper name='C://Users/17789/Documents/Mentorship/RealEstateList\\\\realestatelist_2021-07-07-1.txt' mode='r' encoding='cp1252'>\n",
      "<_io.TextIOWrapper name='C://Users/17789/Documents/Mentorship/RealEstateList\\\\realestatelist_2021-07-08-1.txt' mode='r' encoding='cp1252'>\n",
      "<_io.TextIOWrapper name='C://Users/17789/Documents/Mentorship/RealEstateList\\\\realestatelist_2021-07-09-1.txt' mode='r' encoding='cp1252'>\n",
      "<_io.TextIOWrapper name='C://Users/17789/Documents/Mentorship/RealEstateList\\\\realestatelist_2021-07-11-1.txt' mode='r' encoding='cp1252'>\n",
      "<_io.TextIOWrapper name='C://Users/17789/Documents/Mentorship/RealEstateList\\\\realestatelist_2021-07-13-1.txt' mode='r' encoding='cp1252'>\n",
      "<_io.TextIOWrapper name='C://Users/17789/Documents/Mentorship/RealEstateList\\\\realestatelist_2021-07-14-1.txt' mode='r' encoding='cp1252'>\n",
      "<_io.TextIOWrapper name='C://Users/17789/Documents/Mentorship/RealEstateList\\\\realestatelist_2021-07-15-1.txt' mode='r' encoding='cp1252'>\n"
     ]
    }
   ],
   "source": [
    "import json\n",
    "import pandas as pd\n",
    "import os.path\n",
    "from datetime import date\n",
    "import glob\n",
    "import numpy as np\n",
    "\n",
    "\n",
    "date = date.today()\n",
    "# you can customize your file location\n",
    "path = \"C://Documents/realestatelist_\"\n",
    "path1 = str(date)+\".txt\"\n",
    "path2 = str(date)+\".csv\"\n",
    "file_path = path+path1\n",
    "file_path1 = path+path2\n",
    "\n",
    "file_list_per_date = glob.glob(f'{path}*-1.txt')\n",
    "print(file_list_per_date)\n",
    "\n",
    "if os.path.isfile(file_path1):\n",
    "    os.remove(file_path1)\n",
    "else:\n",
    "    pass\n",
    "\n",
    "def extact_property(pattern, list):\n",
    "    for el in list:\n",
    "        if el.find(pattern):\n",
    "            return el\n",
    "    return None\n",
    "\n",
    "rows = []\n",
    "\n",
    "#find the start postion of certain string in the file path. It will be used to extract file date showing on file name \n",
    "l=file_path .find('realestatelist_')\n",
    "\n",
    "for current_file in file_list_per_date:\n",
    "    with open(current_file,) as f:\n",
    "        # takes a file object and returns the json object.\n",
    "        print(str(f))\n",
    "        json_object = json.load(f)\n",
    "\n",
    "        # take the lists from the jason file\n",
    "        listings = json_object['listings']\n",
    "\n",
    "        for item in listings:\n",
    "            row = {\n",
    "                'price': item['Price'],\n",
    "                # each list have several items\n",
    "                'bd': extact_property('bd', item['Structure & size']),\n",
    "                'ba': extact_property('ba', item['Structure & size']),\n",
    "                'floor size': extact_property('sf', item['Structure & size']),\n",
    "                'Land size': extact_property('ft', item['Structure & size']),\n",
    "                'address': item['Address'],\n",
    "                'city region': extact_property('\",', item['City']),\n",
    "                'city': item['City'][-1] if len(item['City'])>=1 else '',\n",
    "                'date':current_file[l+15:l+25],   # extract the date from current_file. Depending on your file path, the start number and ending numbers are different \n",
    "            }\n",
    "            rows.append(row)\n",
    "\n",
    "# Creates DataFrame object from dictionary by columns or by index allowing dtype specification.\n",
    "df = pd.DataFrame.from_dict(rows)\n",
    "# When there is no value for column 'bd', 'ba', 'size', it means that list is advertisment and could apear mutiple times in the same day. We should to remove it but we will keep the list with the version having values in column 'bd', 'ba', 'size'..\n",
    "df= df.dropna()   \n",
    "df.to_csv(file_path1, mode='a', header=True)                                \n",
    "# print(df)\n",
    "\n"
   ]
  },
  {
   "cell_type": "code",
   "execution_count": 70,
   "metadata": {},
   "outputs": [
    {
     "output_type": "stream",
     "name": "stdout",
     "text": [
      "2021-06-15\n"
     ]
    }
   ],
   "source": [
    "s=\"C://Users/17789/Documents/Mentorship/RealEstateList\\\\realestatelist_2021-06-15-1.txt\"\n",
    "l=s.find('realestatelist_')\n",
    "print(s[l+15:l+25])"
   ]
  },
  {
   "cell_type": "code",
   "execution_count": null,
   "metadata": {},
   "outputs": [],
   "source": []
  }
 ]
}